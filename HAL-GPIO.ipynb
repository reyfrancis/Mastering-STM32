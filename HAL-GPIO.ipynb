{
 "cells": [
  {
   "cell_type": "markdown",
   "metadata": {},
   "source": [
    "# HAL-GPIO\n",
    "\n",
    "Line by line breakdown of the configuring a single Pins using HAL. \n",
    "\n",
    "Some of the topics that will be discussed involves renaming the Pins in STM32CubeIDE. For this reason, we will use the code for SPI LCD by MyaqoobEmbedded. This specific code can be found [here](https://www.youtube.com/watch?v=gd-BHZ5ZyPc).\n",
    "\n",
    "Suggested to have an alternate copy of the complete code because of several detours in the process of explaining the STM32 Architecture or Register manipulations as well as the C++ syntax. Moreover, we will be explaining heavily C++ structs. Hence, some of the code that are not pertaining to GPIO may be discussed as long as they are related to C++ concepts/syntax. "
   ]
  },
  {
   "cell_type": "raw",
   "metadata": {},
   "source": [
    "/* Includes ------------------------------------------------------------------*/\n",
    "\n",
    "#include \"main.h\"\n",
    "#include \"stm32f4xx_hal.h\"\n",
    "\n",
    "#include \"MY_ILI9341.h\"\n",
    "#include \"TSC2046.h\""
   ]
  },
  {
   "cell_type": "raw",
   "metadata": {},
   "source": [
    "/* Private variables ---------------------------------------------------------*/\n",
    "\n",
    "SPI_HandleTypeDef hspi1;\n",
    "SPI_HandleTypeDef hspi2;\n",
    "UART_HandleTypeDef huart2;\n",
    "\n",
    "/* Private variables ---------------------------------------------------------*/"
   ]
  },
  {
   "cell_type": "markdown",
   "metadata": {},
   "source": [
    "[Detour - *SPI_HandleTypeDef hspi1*](#1) \n",
    "\n",
    "<a id='1_r'></a>"
   ]
  },
  {
   "cell_type": "raw",
   "metadata": {},
   "source": [
    "/* Private function prototypes -----------------------------------------------*/\n",
    "\n",
    "void SystemClock_Config(void);\n",
    "static void MX_GPIO_Init(void);\n",
    "static void MX_SPI1_Init(void);\n",
    "static void MX_SPI2_Init(void);\n",
    "static void MX_USART2_UART_Init(void);\n",
    "\n",
    "/* Private function prototypes -----------------------------------------------*/"
   ]
  },
  {
   "cell_type": "markdown",
   "metadata": {},
   "source": [
    "[Detour - Function Prototypes](#2)\n",
    "\n",
    "<a id='2_r'></a>\n",
    "\n",
    "**The above codes are written for us by the STM32cubeide. Below are the codes which are written by the programmer(human).**"
   ]
  },
  {
   "cell_type": "raw",
   "metadata": {},
   "source": [
    "/* USER CODE BEGIN */\n",
    "TS_TOUCH_DATA_Def myTS_Handle;"
   ]
  },
  {
   "cell_type": "markdown",
   "metadata": {},
   "source": [
    "[Detour - Struct *TS_TOUCH_DATA_Def*](#3)\n",
    "\n",
    "<a id='3_r'></a>"
   ]
  },
  {
   "cell_type": "markdown",
   "metadata": {},
   "source": [
    "Moving on, we now enter the *int main(void)* function. "
   ]
  },
  {
   "cell_type": "raw",
   "metadata": {},
   "source": [
    "int main(void)\n",
    "{"
   ]
  },
  {
   "cell_type": "raw",
   "metadata": {},
   "source": [
    "  HAL_Init();"
   ]
  },
  {
   "cell_type": "markdown",
   "metadata": {},
   "source": [
    "This code is nothing more than initializing the Cube HAL. "
   ]
  },
  {
   "cell_type": "raw",
   "metadata": {},
   "source": [
    "SystemClock_Config()"
   ]
  },
  {
   "cell_type": "markdown",
   "metadata": {},
   "source": [
    "[Detour - *SystemClock_Config()*](#4)\n",
    "\n",
    "<a id='4_r'></a>\n"
   ]
  },
  {
   "cell_type": "raw",
   "metadata": {},
   "source": [
    "  /* Initialize all configured peripherals */\n",
    "  \n",
    "  MX_GPIO_Init();"
   ]
  },
  {
   "cell_type": "markdown",
   "metadata": {},
   "source": [
    "Take note that this function as well as other functions are function prototype. Their definition is located at the lower part of the main.c file. However, we have to look into these functions now so we can establish the importance of the C struct in the STM32 programming. This is where are journey to GPIO HAL begins.\n",
    "\n",
    "[Detour - *MX_GPIO_Init()*](#5)\n",
    "\n",
    "<a id='5_r'></a>\n",
    "\n",
    "<a id='6_r'></a>\n",
    "\n",
    "We have seen that the there are a lot of macro definitions in order to manipulate the bits of the GPIO registers. Unfortunately, we wouldn't go down further the line since it would waste a lot of time and effort to understand their implementation (MCD Application Team).\n",
    "\n",
    "The HAL implementation was written the way it is because it they expect that the pins would not only be configured right after the reset. It was written so that it would work even if you already configured some Pins on some Ports and not to overwrite those configurations. Hence, this discussion shed some light why some consider HAL implementation as poorly written."
   ]
  },
  {
   "cell_type": "markdown",
   "metadata": {},
   "source": [
    "                                                       <END>"
   ]
  },
  {
   "cell_type": "markdown",
   "metadata": {},
   "source": [
    "                                                   <intentional space>"
   ]
  },
  {
   "cell_type": "markdown",
   "metadata": {},
   "source": [
    "                                                   <intentional space>"
   ]
  },
  {
   "cell_type": "markdown",
   "metadata": {},
   "source": [
    "                                                   <intentional space>"
   ]
  },
  {
   "cell_type": "markdown",
   "metadata": {},
   "source": [
    "                                                   <intentional space>"
   ]
  },
  {
   "cell_type": "markdown",
   "metadata": {},
   "source": [
    "                                                   <intentional space>"
   ]
  },
  {
   "cell_type": "markdown",
   "metadata": {},
   "source": [
    "                                                   <intentional space>"
   ]
  },
  {
   "cell_type": "markdown",
   "metadata": {},
   "source": [
    "<a id='1'></a>\n",
    "\n",
    "First, the code *SPI_HandleTypeDef hspi1;* is a struct initialization or initializing the struct *SPI_HandleTypeDef*. What this means is we create a copy of the struct *SPI_HandleTypeDef* and give it a name *hspi1*. Further reading can be found in this [link](https://www.learncpp.com/cpp-tutorial/47-structs/#:~:text=Initializing%20structs%20by%20assigning%20values,a%20struct%20at%20declaration%20time.)\n",
    "\n",
    "**Note:** For the rest of the discussion, we will refer to the struct definition as \"struct of type (name of struct definition)\" and the initialized struct as struct instance. So for example, we initialized the struct instance *hspi1* from the struct of type *SPI_HandleTypeDef*.\n",
    "\n",
    "The *SPI_HandleTypeDef* is a C struct which is defined in the following way. \n",
    "\n",
    "![SPI_struct.PNG](HAL_GPIO_Images/SPI_struct.PNG)\n",
    "\n",
    "Notice that the declaration of the struct is with underscores. \n",
    "\n",
    "![double_underscore.PNG](HAL_GPIO_Images/double_underscore.PNG)\n",
    "\n",
    "![double_underscore1.PNG](HAL_GPIO_Images/double_underscore1.PNG)\n",
    "\n",
    "## So what exactly are identifiers?\n",
    "\n",
    "![Identifier.PNG](HAL_GPIO_Images/Identifier.PNG)\n",
    "\n",
    "The reason why we are using structs is because \n",
    "![StructvsClass.PNG](HAL_GPIO_Images/StructvsClass.PNG)\n",
    "\n",
    "[Return - *SPI_HandleTypeDef hspi1*](#1_r)"
   ]
  },
  {
   "cell_type": "markdown",
   "metadata": {},
   "source": [
    "                                                   <intentional space>"
   ]
  },
  {
   "cell_type": "markdown",
   "metadata": {},
   "source": [
    "<a id='2'></a>\n",
    "\n",
    "A function prototype is closely related to the definition of a prototype. Below we'll understand why it is necessary to have\n",
    "\n",
    "![function_prototype.PNG](HAL_GPIO_Images/function_prototype.PNG)\n",
    "\n",
    "![function_prototype1.PNG](HAL_GPIO_Images/function_prototype1.PNG)\n",
    "\n",
    "[Return - Function Prototypes](#2_r)"
   ]
  },
  {
   "cell_type": "markdown",
   "metadata": {},
   "source": [
    "                                                   <intentional space>"
   ]
  },
  {
   "cell_type": "markdown",
   "metadata": {},
   "source": [
    "<a id='3'></a>\n",
    "\n",
    "As what we know this is another struct initialization. By clicking into the definition, we get"
   ]
  },
  {
   "cell_type": "raw",
   "metadata": {},
   "source": [
    "typedef struct\n",
    "{\n",
    "    bool isPressed;\n",
    "    uint16_t X;\n",
    "    uint16_t Y;\n",
    "}TS_TOUCH_DATA_Def;"
   ]
  },
  {
   "cell_type": "markdown",
   "metadata": {},
   "source": [
    "This is defined at TC2046.h\n",
    "\n",
    "[Return - Struct *TS_TOUCH_DATA_Def*](#3_r)"
   ]
  },
  {
   "cell_type": "markdown",
   "metadata": {},
   "source": [
    "                                                   <intentional space>"
   ]
  },
  {
   "cell_type": "markdown",
   "metadata": {},
   "source": [
    "<a id='4'></a>\n",
    "\n",
    "This code is similar to HAL init but instead, it configures the correct clock tree of our MCU. \n",
    "\n",
    "![System_clock_config.PNG](HAL_GPIO_Images/System_clock_config.PNG)\n",
    "\n",
    "[Return - *SystemClock_Config()*](#4_r)"
   ]
  },
  {
   "cell_type": "markdown",
   "metadata": {},
   "source": [
    "                                                   <intentional space>"
   ]
  },
  {
   "cell_type": "markdown",
   "metadata": {},
   "source": [
    "<a id='5'></a>\n",
    "\n",
    "## *MX_GPIO_Init()*"
   ]
  },
  {
   "cell_type": "raw",
   "metadata": {},
   "source": [
    "static void MX_GPIO_Init(void)\n",
    "{\n",
    "\n",
    "  GPIO_InitTypeDef GPIO_InitStruct;"
   ]
  },
  {
   "cell_type": "markdown",
   "metadata": {},
   "source": [
    "[Detour - Struct *GPIO_InitTypeDef*](#5.1)\n",
    "\n",
    "<a id='5.1_r'></a>"
   ]
  },
  {
   "cell_type": "raw",
   "metadata": {},
   "source": [
    "  /* GPIO Ports Clock Enable */\n",
    "  \n",
    "  __HAL_RCC_GPIOC_CLK_ENABLE();\n",
    "  __HAL_RCC_GPIOA_CLK_ENABLE();\n",
    "  __HAL_RCC_GPIOB_CLK_ENABLE();"
   ]
  },
  {
   "cell_type": "markdown",
   "metadata": {},
   "source": [
    "These are just some clock tree configurations. We will not be discussing the clock tree configuration for now but the *RCC* tells us its about the clock configuration of these I/O pins that we've configured in the Clock Configuration of STM32CubeIDE. "
   ]
  },
  {
   "cell_type": "raw",
   "metadata": {},
   "source": [
    "  /*Configure GPIO pin Output Level */\n",
    "  \n",
    "  HAL_GPIO_WritePin(LCD_DC_GPIO_Port, LCD_DC_Pin, GPIO_PIN_RESET);"
   ]
  },
  {
   "cell_type": "markdown",
   "metadata": {},
   "source": [
    "[Detour - *HAL_GPIO_WritePin()*](#5.2)\n",
    "\n",
    "<a id='5.2_r'></a>"
   ]
  },
  {
   "cell_type": "raw",
   "metadata": {},
   "source": [
    "  /*Configure GPIO pin Output Level */\n",
    "  HAL_GPIO_WritePin(LCD_RST_GPIO_Port, LCD_RST_Pin, GPIO_PIN_RESET);\n",
    "\n",
    "  /*Configure GPIO pin Output Level */\n",
    "  HAL_GPIO_WritePin(GPIOB, TS_CS_Pin|LCD_CS_Pin, GPIO_PIN_RESET);"
   ]
  },
  {
   "cell_type": "markdown",
   "metadata": {},
   "source": [
    "And pretty much the same thing applies for the other two functions except that we have an Logical OR: *TS_CS_Pin|LCD_CS_Pin*. Which means both pins share the same struct *GPIOB*. For some reason that I can't explain, the *HAL_GPIO_WritePin()* is called even before the the pins are configured.  \n",
    "\n",
    "[Further discussion - Naming convention](#5.3)\n",
    "\n",
    "<a id='5.3_r'></a>\n",
    "\n",
    "The next block of lines will configure the pins."
   ]
  },
  {
   "cell_type": "raw",
   "metadata": {},
   "source": [
    "  /*Configure GPIO pin : LCD_DC_Pin */\n",
    "  \n",
    "  GPIO_InitStruct.Pin = LCD_DC_Pin;\n",
    "  GPIO_InitStruct.Mode = GPIO_MODE_OUTPUT_PP;\n",
    "  GPIO_InitStruct.Pull = GPIO_NOPULL;\n",
    "  GPIO_InitStruct.Speed = GPIO_SPEED_FREQ_LOW;\n",
    "  HAL_GPIO_Init(LCD_DC_GPIO_Port, &GPIO_InitStruct);"
   ]
  },
  {
   "cell_type": "markdown",
   "metadata": {},
   "source": [
    "The first few lines are just writing values to each member of the struct instance *GPIO_InitStruct* that we initialized. The last line is the most interesting line in this block. It's a function that accepts a pointer variable. It's quite hard to understand in this case. Hence, it will be better to look at the definition of *HAL_GPIO_Init*.\n",
    "\n",
    "[Detour - *HAL_GPIO_Init()*](#5.4)\n",
    "\n",
    "<a id='5.4_r'></a>"
   ]
  },
  {
   "cell_type": "markdown",
   "metadata": {},
   "source": [
    "                                                   <intentional space>"
   ]
  },
  {
   "cell_type": "markdown",
   "metadata": {},
   "source": [
    "<a id='5.1'></a>\n",
    "\n",
    "We are initializing the struct *GPIO_InitStruct*. This means we create a copy of the struct *GPIO_InitTypeDef* and name it *GPIO_InitStruct*. The full definition of the *GPIO_InitTypeDef* can be seen below.\n",
    "\n",
    "<a id='5.4.5'></a>\n",
    "![GPIO_InitTypeDef.PNG](HAL_GPIO_Images/GPIO_InitTypeDef.PNG)\n",
    "[Return - Image Only Reference](#5.4.5_r)\n",
    "\n",
    "![GPIO_InitTypeDef1.PNG](HAL_GPIO_Images/GPIO_InitTypeDef1.PNG)\n",
    "\n",
    "[Return - Struct *GPIO_InitTypeDef*](#5.1_r)"
   ]
  },
  {
   "cell_type": "markdown",
   "metadata": {},
   "source": [
    "                                                   <intentional space>"
   ]
  },
  {
   "attachments": {},
   "cell_type": "markdown",
   "metadata": {},
   "source": [
    "<a id='5.2'></a>\n",
    "\n",
    "This is nothing more than the writing a zero to the exact Pin. \n",
    "\n",
    "![HAL_GPIO_WritePin%28%29.PNG](HAL_GPIO_Images/HAL_GPIO_WritePin%28%29.PNG)\n",
    "\n",
    "The STM32 uses the naming convention of RESET for LOW and SET for HIGH. Hence, *GPIO_PIN_RESET* means driving that particular pin LOW.\n",
    "\n",
    "[Return - *HAL_GPIO_WritePin()*](#5.2_r)"
   ]
  },
  {
   "cell_type": "markdown",
   "metadata": {},
   "source": [
    "                                                   <intentional space>"
   ]
  },
  {
   "attachments": {},
   "cell_type": "markdown",
   "metadata": {},
   "source": [
    "<a id='5.3'></a>\n",
    "\n",
    "Moreover, it would be good to discuss another weird naming convention that is implemented by STM32CubeIDE.\n",
    "\n",
    "I came to realize that if there is only one pin initialized for a given port, it will adapt the name that you gave to in the Pin Configuration of STM32CubeIDE. Look carefully at *LCD_DC_GPIO_Port* which is located at PC7. \n",
    "\n",
    "![pinouts.PNG](HAL_GPIO_Images/pinouts.PNG)\n",
    "\n",
    "Now, there are no other I/O pins for port A or GPIOA and that is why its name is  \"LCD_DC\" + \"_ GPIO_Port\". However, if there are two pins in a given port, like the case of *TS_CS_Pin* and *LCD_CS_Pin* which are both in Port B, hence they are given a name of *GPIOB*. \n",
    "\n",
    "Now, you might ask what does *LCD_DC_GPIO_Port* even mean. We'll they manage to place its definition in main.h private defines."
   ]
  },
  {
   "cell_type": "raw",
   "metadata": {},
   "source": [
    "#define LCD_DC_GPIO_Port GPIOC"
   ]
  },
  {
   "cell_type": "markdown",
   "metadata": {},
   "source": [
    "<a id='5.4.6'></a>\n",
    "![private_defines.PNG](HAL_GPIO_Images/private_defines.PNG)\n",
    "\n",
    "**Note:** If you're wondering about PC2 and PC3, just keep in mind that they are SPI pins and not GPIO pins, hence, the only pin for Port C is PC7!\n",
    "\n",
    "[Return - Image Only Reference](#5.4.6_r)\n",
    "\n",
    "[Return - Naming convetion](#5.3_r)"
   ]
  },
  {
   "cell_type": "markdown",
   "metadata": {},
   "source": [
    "                                                   <intentional space>"
   ]
  },
  {
   "cell_type": "markdown",
   "metadata": {},
   "source": [
    "<a id='5.4'></a>\n",
    "\n",
    "## *HAL_GPIO_Init()*"
   ]
  },
  {
   "cell_type": "raw",
   "metadata": {},
   "source": [
    "void HAL_GPIO_Init(GPIO_TypeDef  *GPIOx, GPIO_InitTypeDef *GPIO_Init)\n",
    "{"
   ]
  },
  {
   "cell_type": "raw",
   "metadata": {},
   "source": [
    "  uint32_t position;\n",
    "  uint32_t ioposition = 0x00U;\n",
    "  uint32_t iocurrent = 0x00U;\n",
    "  uint32_t temp = 0x00U;"
   ]
  },
  {
   "cell_type": "markdown",
   "metadata": {},
   "source": [
    "Initialize some variables and set their values to zero. \n",
    "\n",
    "[Detour - U suffix](#5.4.1) \n",
    "\n",
    "<a id='5.4.1_r'></a>"
   ]
  },
  {
   "cell_type": "raw",
   "metadata": {},
   "source": [
    "  /* Check the parameters */\n",
    "  \n",
    "  assert_param(IS_GPIO_ALL_INSTANCE(GPIOx));\n",
    "  assert_param(IS_GPIO_PIN(GPIO_Init->Pin));\n",
    "  assert_param(IS_GPIO_MODE(GPIO_Init->Mode));\n",
    "  assert_param(IS_GPIO_PULL(GPIO_Init->Pull));"
   ]
  },
  {
   "cell_type": "markdown",
   "metadata": {},
   "source": [
    "Initialize some variables and set their values to zero. \n",
    "\n",
    "Perhaps you've already encountered the function *is_integer()* which is a Python function that check if the given output is an integer. This is actually the same thing for *IS_GPIO_ALL_INSTANCE*, *IS_GPIO_PIN*, etc.\n",
    "\n",
    "[Detour - *assert_param()*](#5.4.2) \n",
    "\n",
    "<a id='5.4.2_r'></a>"
   ]
  },
  {
   "cell_type": "raw",
   "metadata": {},
   "source": [
    "/* Configure the port pins */\n",
    "\n",
    "  for(position = 0U; position < GPIO_NUMBER; position++)\n",
    "  {"
   ]
  },
  {
   "cell_type": "markdown",
   "metadata": {},
   "source": [
    "The *GPIO_NUMBER* is defined at the beginning of hal_gpio.c file."
   ]
  },
  {
   "cell_type": "raw",
   "metadata": {},
   "source": [
    "#define GPIO_NUMBER           16U"
   ]
  },
  {
   "cell_type": "markdown",
   "metadata": {},
   "source": [
    "Moving on,"
   ]
  },
  {
   "cell_type": "raw",
   "metadata": {},
   "source": [
    "    /* Get the IO position */\n",
    "    \n",
    "    ioposition = 0x01U << position;"
   ]
  },
  {
   "cell_type": "markdown",
   "metadata": {},
   "source": [
    "This line is just a bit shifting. Basically what this means is that we are shifting the binary of 0x01 to left depending on the current value of the variable *position*. Since *position* is an unsigned 32 bit. It means there are 4,294,967,295 possible values for *position* but we know that we will never reach that value since *GPIO_NUMBER* is only equal to 16. "
   ]
  },
  {
   "cell_type": "raw",
   "metadata": {},
   "source": [
    "    /* Get the current IO position */\n",
    "    iocurrent = (uint32_t)(GPIO_Init->Pin) & ioposition;"
   ]
  },
  {
   "cell_type": "markdown",
   "metadata": {},
   "source": [
    "[Detour - Arrow Operator](#5.4.3) \n",
    "\n",
    "<a id='5.4.3_r'></a>"
   ]
  },
  {
   "cell_type": "markdown",
   "metadata": {},
   "source": [
    "If you recall, the function"
   ]
  },
  {
   "cell_type": "raw",
   "metadata": {},
   "source": [
    "HAL_GPIO_Init(GPIO_TypeDef  *GPIOx, GPIO_InitTypeDef *GPIO_Init)"
   ]
  },
  {
   "cell_type": "markdown",
   "metadata": {},
   "source": [
    "accepts two pointers, which holds the addresses of the two struct of types *GPIO_TypeDef* and *GPIO_InitTypeDef*. We've already seen the struct definition of *GPIO_InitTypeDef* [previously](#5.4.5). <a id='5.4.5_r'></a>  \n",
    "\n",
    "It is important to note that the pointer declaration is done in the function parameters of *HAL_GPIO_Init()*. What this mean is whatever address is passed in this function, the two pointers will be called **GPIOx* and **GPIO_Init*. What we have here is called Passing Structure to Function Call by Reference.\n",
    "\n",
    "[Detour - Passing Structure to Function Call by Reference](#5.4.4) \n",
    "\n",
    "<a id='5.4.4_r'></a>\n",
    "\n",
    "To recall things, the function in main.c is"
   ]
  },
  {
   "cell_type": "raw",
   "metadata": {},
   "source": [
    "  HAL_GPIO_Init(LCD_RST_GPIO_Port, &GPIO_InitStruct);"
   ]
  },
  {
   "cell_type": "markdown",
   "metadata": {},
   "source": [
    "Now, its clear that the second argument is an address of the struct instance *GPIO_InitStruct* but the first argument *LCD_RST_GPIO_Port* doesn't look like an address at all. We already looked up at the definition of *LCD_RST_GPIO_Port* previously [here](#5.4.6). <a id='5.4.6_r'></a> \n",
    "We can see that"
   ]
  },
  {
   "cell_type": "raw",
   "metadata": {},
   "source": [
    "LCD_RST_GPIO_Port is equal to GPIOA"
   ]
  },
  {
   "attachments": {},
   "cell_type": "markdown",
   "metadata": {},
   "source": [
    "Looking at the definition of *GPIOA*, at stm32f407xx.h\n",
    "\n",
    "<a id='5.4.8'></a>\n",
    "\n",
    "![GPIOA.PNG](HAL_GPIO_Images/GPIOA.PNG)\n",
    "\n",
    "[Return - Image Reference Only](#5.4.8_r) "
   ]
  },
  {
   "cell_type": "markdown",
   "metadata": {},
   "source": [
    "We know that this is a macro, but we don't quite understand the syntax. It seems that it is making an instance of the struct of *GPIO_TypeDef* and then making *GPIOA_BASE* as the pointer that holds the address of the instance of the struct. Unfortunately, we can't really confirm the meaning of the syntax as the author can't find a similar one."
   ]
  },
  {
   "cell_type": "markdown",
   "metadata": {},
   "source": [
    "We could stop right here but we could also continue. But in order to do so, we need to refer to the [datasheet](https://www.st.com/resource/en/datasheet/dm00037051.pdf) of STM32F4 family. Before we continue to a whole new world of registers. Let's first summarize why we've come this far.\n",
    "\n",
    "First, we dive into the definition of "
   ]
  },
  {
   "cell_type": "raw",
   "metadata": {},
   "source": [
    "  MX_GPIO_Init();"
   ]
  },
  {
   "cell_type": "markdown",
   "metadata": {},
   "source": [
    "which was written inside the main.c. Inside the *static void MX_GPIO_Init(void)* we've found the code "
   ]
  },
  {
   "cell_type": "raw",
   "metadata": {},
   "source": [
    "  /*Configure GPIO pin : LCD_DC_Pin */\n",
    "  GPIO_InitStruct.Pin = LCD_DC_Pin;\n",
    "  GPIO_InitStruct.Mode = GPIO_MODE_OUTPUT_PP;\n",
    "  GPIO_InitStruct.Pull = GPIO_NOPULL;\n",
    "  GPIO_InitStruct.Speed = GPIO_SPEED_FREQ_LOW;\n",
    "  HAL_GPIO_Init(LCD_DC_GPIO_Port, &GPIO_InitStruct);"
   ]
  },
  {
   "cell_type": "markdown",
   "metadata": {},
   "source": [
    "And the last code leads us to *HAL_GPIO_Init()*. Inside the *HAL_GPIO_Init()*, the last code we encountered is "
   ]
  },
  {
   "cell_type": "raw",
   "metadata": {},
   "source": [
    "    /* Get the current IO position */\n",
    "    iocurrent = (uint32_t)(GPIO_Init->Pin) & ioposition;"
   ]
  },
  {
   "cell_type": "markdown",
   "metadata": {},
   "source": [
    "For reference, we'll write the two functions side by side."
   ]
  },
  {
   "cell_type": "raw",
   "metadata": {},
   "source": [
    "  HAL_GPIO_Init(LCD_RST_GPIO_Port, &GPIO_InitStruct); //Executed\n",
    "  HAL_GPIO_Init(GPIO_TypeDef  *GPIOx, GPIO_InitTypeDef *GPIO_Init) //Definition"
   ]
  },
  {
   "cell_type": "markdown",
   "metadata": {},
   "source": [
    "We now understand that *HAL_GPIO_Init()* is a passing structure to function call by reference which is a fancy name for passing the address of a struct into a function so that it won't create a copy of the struct instance but rather change the values of struct instance. \n",
    "\n",
    "Moreover, the argument **GPIO_Init* is a pointer to the struct of type *GPIO_InitTypeDef* containing the member Pin = LCD_DC_Pin. \n",
    "\n",
    "Now, we can easily see that *GPIO_Init->Pin* should be equal to *LCD_DC_Pin*. In the private defines of main.h we saw that "
   ]
  },
  {
   "cell_type": "raw",
   "metadata": {},
   "source": [
    " #define LCD_DC_Pin GPIO_PIN_7"
   ]
  },
  {
   "cell_type": "markdown",
   "metadata": {},
   "source": [
    "which is finally tabulated at hal_gpio.h\n",
    "\n",
    "![GPIO_PINS.PNG](HAL_GPIO_Images/GPIO_PINS.PNG)"
   ]
  },
  {
   "cell_type": "raw",
   "metadata": {},
   "source": [
    "The next line of code is "
   ]
  },
  {
   "cell_type": "raw",
   "metadata": {},
   "source": [
    "    if(iocurrent == ioposition)\n",
    "    {"
   ]
  },
  {
   "cell_type": "markdown",
   "metadata": {},
   "source": [
    "This will happen when *position* = 7 since the binary of *(uint32_t)(GPIO_Init->Pin)* = 0x00800 = 10000000."
   ]
  },
  {
   "cell_type": "markdown",
   "metadata": {},
   "source": [
    "Don't get confused with *ioposition* and *position*. These are two different variables. The *position* is the index of the for-loop while *ioposition* is the left shifting of the binary 0b01."
   ]
  },
  {
   "cell_type": "raw",
   "metadata": {},
   "source": [
    "         (GPIO_Init->Mode == GPIO_MODE_OUTPUT_OD) || (GPIO_Init->Mode == GPIO_MODE_AF_OD))\n",
    "      {\n",
    "        /* Check the Speed parameter */\n",
    "        assert_param(IS_GPIO_SPEED(GPIO_Init->Speed));\n",
    "        /* Configure the IO Speed */\n",
    "        temp = GPIOx->OSPEEDR; "
   ]
  },
  {
   "cell_type": "markdown",
   "metadata": {},
   "source": [
    "[Detour - Alternate Functions](#5.4.7) \n",
    "\n",
    "<a id='5.4.7_r'></a>\n",
    "\n",
    "For the *GPIO_TypeDef*\n",
    "\n",
    "![GPIO_TypeDef.PNG](HAL_GPIO_Images/GPIO_TypeDef.PNG)\n",
    "\n",
    "which can be found at hal_gpio.h file. Now, we have to find where did the instance of the struct *GPIO_TypeDef* was created. If you recall previously, we look at the macro \n",
    "\n",
    "[Detour - *GPIO_TypeDef* Initialization](#5.4.8) \n",
    "\n",
    "<a id='5.4.8_r'></a>\n",
    "\n",
    "It means by when we called the function"
   ]
  },
  {
   "cell_type": "raw",
   "metadata": {},
   "source": [
    "  HAL_GPIO_Init(LCD_DC_GPIO_Port, &GPIO_InitStruct);"
   ]
  },
  {
   "attachments": {},
   "cell_type": "markdown",
   "metadata": {},
   "source": [
    "we already initialized an instance of the struct *GPIO_TypeDef* since we previously discussed that *LCD_DC_GPIO_Port* is equal to *GPIOC* and *GPIOC* is a macro that initializes the struct of type *GPIO_TypeDef*. This means that the pointer **GPIOx* contains the address of *GPIOC_BASE*. By using the flashlight icon ![search.PNG](HAL_GPIO_Images/search.PNG) which search for a given expression. \n",
    "\n",
    "![GPIOC_BASE.PNG](HAL_GPIO_Images/GPIOC_BASE.PNG)\n",
    "\n",
    "Searching again for the value of *AHB1PERIPH_BASE*\n",
    "\n",
    "![AHB1PERIPH_BASE.PNG](HAL_GPIO_Images/AHB1PERIPH_BASE.PNG)\n",
    "\n",
    "And finally\n",
    "\n",
    "![PERIPH_BASE.PNG](HAL_GPIO_Images/PERIPH_BASE.PNG)"
   ]
  },
  {
   "cell_type": "markdown",
   "metadata": {},
   "source": [
    "Hence, "
   ]
  },
  {
   "cell_type": "raw",
   "metadata": {},
   "source": [
    "AHB1PERIPH_BASE = PERIPH_BASE + 0X0002 0000 \n",
    "AHB1PERIPH_BASE = 0X4000 0000 + 0X0002 0000 = 0X4002 0000\n",
    "GPIOC_BASE = AHB1PERIPH_BASE + 0x0800 \n",
    "GPIOC_BASE = 0X4002 0000 + 0x0000 0800  = 0X4002 0800\n",
    "GPIOC_BASE = 0X4002 0800"
   ]
  },
  {
   "attachments": {},
   "cell_type": "markdown",
   "metadata": {},
   "source": [
    "See we can see that is correct by looking at the datasheet for STM32F4xx.\n",
    "\n",
    "![gpio_register_address.png](HAL_GPIO_Images/gpio_register_address.png)"
   ]
  },
  {
   "attachments": {},
   "cell_type": "markdown",
   "metadata": {},
   "source": [
    "Now, the reset value of *GPIOx->OSPEEDR* can be found at the datasheet\n",
    "\n",
    "![GPIOC_OSPEEDR.PNG](HAL_GPIO_Images/GPIOC_OSPEEDR.PNG)\n",
    "\n",
    "which is 0x0000 00000. You might ask, why bother to type"
   ]
  },
  {
   "cell_type": "raw",
   "metadata": {},
   "source": [
    "temp = GPIOx->OSPEEDR;"
   ]
  },
  {
   "cell_type": "markdown",
   "metadata": {},
   "source": [
    "instead of just "
   ]
  },
  {
   "cell_type": "raw",
   "metadata": {},
   "source": [
    "temp = 0x0000 00000; ?"
   ]
  },
  {
   "cell_type": "markdown",
   "metadata": {},
   "source": [
    "Well the reason is the value of GPIOC_OSPEEDR register may not always be equal to zero. For instance, if you happen to initialize a pin to port C before, then, that effectively modifies GPIOC_OSPEEDR register. "
   ]
  },
  {
   "cell_type": "raw",
   "metadata": {},
   "source": [
    "        temp &= ~(GPIO_OSPEEDER_OSPEEDR0 << (position * 2U));\n",
    "        temp |= (GPIO_Init->Speed << (position * 2U));\n",
    "        GPIOx->OSPEEDR = temp;"
   ]
  },
  {
   "attachments": {},
   "cell_type": "markdown",
   "metadata": {},
   "source": [
    "![GPIO_OSPEEDER_OSPEEDR0.PNG](HAL_GPIO_Images/GPIO_OSPEEDER_OSPEEDR0.PNG)\n",
    "\n",
    "![GPIO_OSPEEDR_OSPEED0.PNG](HAL_GPIO_Images/GPIO_OSPEEDR_OSPEED0.PNG)\n",
    "\n",
    "![GPIO_OSPEEDR_OSPEED0_Msk.PNG](HAL_GPIO_Images/GPIO_OSPEEDR_OSPEED0_Msk.PNG)\n",
    "\n",
    "After a long series of going to the definition of different macros, we're able to finally see that "
   ]
  },
  {
   "cell_type": "raw",
   "metadata": {},
   "source": [
    "GPIO_OPSEEDR_OSPEED0_Pos = 0\n",
    "GPIO_OPSEEDR_OSPEED0_Msk = 0x3 = 0x0000 0003\n",
    "GPIO_OPSEEDR_OSPEED0 = 0x0000 0003\n",
    "GPIO_OPSEEDR_OSPEEDR0 = 0x0000 0003"
   ]
  },
  {
   "cell_type": "markdown",
   "metadata": {},
   "source": [
    "It's not very clear why do we have to shift do this *(0x3UL << GPIO_OPSEEDR_OSPEED0_Pos)* since *GPIO_OPSEEDR_OSPEED0_Pos* is defined as zero which means we are shifting to zero units to the left. Doesn't make sense at all. \n",
    "\n",
    "[Detour - UL suffix](#5.4.9) \n",
    "\n",
    "<a id='5.4.9_r'></a>\n",
    "\n",
    "From our discussion of UL suffix, we now understand that since we are dealing with 32-bit data type, which means 8 hexadecimal characters, if we want to write the hexadecimal number without writing the whole 8 characters, we need to explicitly write a UL suffix or since Long means 4 bytes which is 32-bits. For example, the HAL defines \n",
    "*0x03UL* to denote that it is actually *0x0000 0003*.\n",
    "\n",
    "[Return - Some finishing thoughts](#6_r) "
   ]
  },
  {
   "cell_type": "markdown",
   "metadata": {},
   "source": [
    "                                                   <intentional space>"
   ]
  },
  {
   "cell_type": "markdown",
   "metadata": {},
   "source": [
    "                                                   <intentional space>"
   ]
  },
  {
   "cell_type": "markdown",
   "metadata": {},
   "source": [
    "                                                   <intentional space>"
   ]
  },
  {
   "cell_type": "markdown",
   "metadata": {},
   "source": [
    "                                                   <intentional space>"
   ]
  },
  {
   "cell_type": "markdown",
   "metadata": {},
   "source": [
    "                                                   <intentional space>"
   ]
  },
  {
   "attachments": {},
   "cell_type": "markdown",
   "metadata": {},
   "source": [
    "<a id='5.4.1'></a>\n",
    "\n",
    "The U suffix:\n",
    "\n",
    "![u_suffix.PNG](HAL_GPIO_Images/u_suffix.PNG)\n",
    "\n",
    "[Return -  U suffix](#5.4.1_r) "
   ]
  },
  {
   "cell_type": "markdown",
   "metadata": {},
   "source": [
    "                                                   <intentional space>"
   ]
  },
  {
   "cell_type": "markdown",
   "metadata": {},
   "source": [
    "<a id='5.4.2'></a>\n",
    "\n",
    "The *assert_param()*: \n",
    "\n",
    "![assert_param.PNG](HAL_GPIO_Images/assert_param.PNG)\n",
    "\n",
    "[Return - *assert_param()*](#5.4.2_r) "
   ]
  },
  {
   "cell_type": "markdown",
   "metadata": {},
   "source": [
    "                                                   <intentional space>"
   ]
  },
  {
   "cell_type": "markdown",
   "metadata": {},
   "source": [
    "<a id='5.4.3'></a>\n",
    "\n",
    "#### The arrow operator\n",
    "\n",
    "The arrow operator is used to access the variables inside a struct using a pointer. Say we have a struct of type *student*"
   ]
  },
  {
   "cell_type": "raw",
   "metadata": {},
   "source": [
    "struct student{\n",
    "int age;\n",
    "char sex;\n",
    "}"
   ]
  },
  {
   "cell_type": "markdown",
   "metadata": {},
   "source": [
    "Initialize the struct, call it *Bob*."
   ]
  },
  {
   "cell_type": "raw",
   "metadata": {},
   "source": [
    "student Bob;"
   ]
  },
  {
   "cell_type": "markdown",
   "metadata": {},
   "source": [
    "Next, we defined a pointer that holds the address of struct *Bob*. "
   ]
  },
  {
   "cell_type": "raw",
   "metadata": {},
   "source": [
    "int *Bob_ptr = &Bob;"
   ]
  },
  {
   "cell_type": "markdown",
   "metadata": {},
   "source": [
    "Then we two ways of accessing the members of *Bob*. Either by using the dot operator or by using arrow operator. The dot operator is used by calling the struct name or identifier itself."
   ]
  },
  {
   "cell_type": "raw",
   "metadata": {},
   "source": [
    "Bob.age = 15;"
   ]
  },
  {
   "cell_type": "markdown",
   "metadata": {},
   "source": [
    "or we could aso do the same thing by using our pointer "
   ]
  },
  {
   "cell_type": "raw",
   "metadata": {},
   "source": [
    "Bob_ptr->age = 15;"
   ]
  },
  {
   "cell_type": "markdown",
   "metadata": {},
   "source": [
    "A quick demonstration can be seen [here](https://www.youtube.com/watch?v=jH2b6bKgrhs).\n",
    "\n",
    "[Return - Arrow Operator](#5.4.3_r)"
   ]
  },
  {
   "cell_type": "markdown",
   "metadata": {},
   "source": [
    "                                                   <intentional space>"
   ]
  },
  {
   "cell_type": "markdown",
   "metadata": {},
   "source": [
    "<a id='5.4.4'></a>\n",
    "\n",
    "#### Passing Structure to Function Call by Reference\n",
    "\n",
    "\n",
    "\n",
    "Just like any other data type, we can pass structure into a function. We could do this in two ways:\n",
    "\n",
    "- passing individual structure elements\n",
    "- passing the entire structure\n",
    "\n",
    "![struct_function.PNG](HAL_GPIO_Images/struct_function.PNG)\n",
    "\n",
    "Structures can be passed by reference just as other simple types. When a structure is passed by reference the called function declares a reference for the passed structure and refers to the original structure elements through its reference. Thus, the called function works with the original values. Further reading can be found here: [link1](https://codescracker.com/cpp/cpp-pasing-structures-to-functions.htm), [link2](https://www.codesdope.com/cpp-structure/)\n",
    "\n",
    "[Return - Passing Structure to Function Call by Reference](#5.4.4_r) "
   ]
  },
  {
   "cell_type": "markdown",
   "metadata": {},
   "source": [
    "                                                   <intentional space>"
   ]
  },
  {
   "cell_type": "markdown",
   "metadata": {},
   "source": [
    "<a id='5.4.7'></a>\n",
    "\n",
    "## Alternate Functions\n",
    "\n",
    "Most of GPIOs have “alternate functions”, that is they can be used as I/O pin for at least one internalperipheral. However, keep in mind that an I/O can be associated to only one peripheral at a time.\n",
    "\n",
    "![alternate_functions.PNG](HAL_GPIO_Images/alternate_functions.PNG)\n",
    "![alternate_functions1.PNG](HAL_GPIO_Images/alternate_functions1.PNG)\n",
    "\n",
    "[Return - Alternate Functions](#5.4.7_r) "
   ]
  },
  {
   "cell_type": "markdown",
   "metadata": {},
   "source": [
    "                                                   <intentional space>"
   ]
  },
  {
   "attachments": {},
   "cell_type": "markdown",
   "metadata": {},
   "source": [
    "<a id='5.4.9'></a> \n",
    "\n",
    "![UL1.PNG](HAL_GPIO_Images/UL1.PNG)\n",
    "![Ul2.PNG](HAL_GPIO_Images/Ul2.PNG)\n",
    "\n",
    "## So what exactly is long long data type?\n",
    "\n",
    "![long_long.PNG](HAL_GPIO_Images/long_long.PNG)\n",
    "\n",
    "[UL Suffix](#5.4.9_r) "
   ]
  }
 ],
 "metadata": {
  "kernelspec": {
   "display_name": "Python 3",
   "language": "python",
   "name": "python3"
  },
  "language_info": {
   "codemirror_mode": {
    "name": "ipython",
    "version": 3
   },
   "file_extension": ".py",
   "mimetype": "text/x-python",
   "name": "python",
   "nbconvert_exporter": "python",
   "pygments_lexer": "ipython3",
   "version": "3.7.7"
  }
 },
 "nbformat": 4,
 "nbformat_minor": 4
}
